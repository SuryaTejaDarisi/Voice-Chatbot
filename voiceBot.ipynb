{
 "cells": [
  {
   "cell_type": "code",
   "execution_count": null,
   "id": "cf147ba4",
   "metadata": {},
   "outputs": [],
   "source": [
    "import speech_recognition as sr\n",
    "import pyttsx3\n",
    "import google.generativeai as genai\n",
    "import tqdm as notebook_tqdm\n",
    "import markdown\n",
    "import re"
   ]
  },
  {
   "cell_type": "code",
   "execution_count": null,
   "id": "df508823",
   "metadata": {},
   "outputs": [],
   "source": [
    "from dotenv import load_dotenv\n",
    "import os\n",
    "load_dotenv()\n",
    "GEMINI_API_KEY = os.getenv(\"GEMINI_API_KEY\")"
   ]
  },
  {
   "cell_type": "markdown",
   "id": "6411ebdf",
   "metadata": {},
   "source": [
    "Setting up the API"
   ]
  },
  {
   "cell_type": "code",
   "execution_count": null,
   "id": "34bb395b",
   "metadata": {},
   "outputs": [],
   "source": [
    "API_KEY = GEMINI_API_KEY\n",
    "genai.configure(api_key=API_KEY)"
   ]
  },
  {
   "cell_type": "markdown",
   "id": "9d3a1f2d",
   "metadata": {},
   "source": [
    "Setting up the Microphone  "
   ]
  },
  {
   "cell_type": "code",
   "execution_count": null,
   "id": "1a209397",
   "metadata": {},
   "outputs": [],
   "source": [
    "recognizer = sr.Recognizer()\n",
    "mic = sr.Microphone()"
   ]
  },
  {
   "cell_type": "markdown",
   "id": "a7dc0881",
   "metadata": {},
   "source": [
    "Speech to Text Converter"
   ]
  },
  {
   "cell_type": "code",
   "execution_count": null,
   "id": "7cf52a7f",
   "metadata": {},
   "outputs": [],
   "source": [
    "def get_audio():\n",
    "    with mic as source:\n",
    "        print(\"How can I help you today ?\")\n",
    "        audio = recognizer.listen(source)\n",
    "    try:\n",
    "        text = recognizer.recognize_google(audio)\n",
    "        print(text)\n",
    "        return text\n",
    "    except sr.UnknownValueError:\n",
    "        print(\"Please try again. Audio is not clear\")\n",
    "        return \"\"\n",
    "    except sr.RequestError:\n",
    "        print(\"Please check your internet connection !!!\")\n",
    "        return \"\""
   ]
  },
  {
   "cell_type": "markdown",
   "id": "d8db0ddb",
   "metadata": {},
   "source": [
    "LLM Response Generation"
   ]
  },
  {
   "cell_type": "code",
   "execution_count": null,
   "id": "2720d174",
   "metadata": {},
   "outputs": [],
   "source": [
    "def ask_gemini(question):\n",
    "    model = genai.GenerativeModel(\"gemini-2.5-flash\")\n",
    "    response = model.generate_content(question)\n",
    "    answer = response.text\n",
    "    print(answer)\n",
    "    return answer"
   ]
  },
  {
   "cell_type": "markdown",
   "id": "cb973af0",
   "metadata": {},
   "source": [
    "Text to Speech Generation"
   ]
  },
  {
   "cell_type": "code",
   "execution_count": null,
   "id": "2fe03ed1",
   "metadata": {},
   "outputs": [],
   "source": [
    "def strip_markdown(text):\n",
    "    html = markdown.markdown(text)\n",
    "    cleanedText = re.sub('<[^<]+?>', '', html)\n",
    "    return cleanedText"
   ]
  },
  {
   "cell_type": "code",
   "execution_count": null,
   "id": "25c8964d",
   "metadata": {},
   "outputs": [],
   "source": [
    "def speak(text):\n",
    "    cleanedText = strip_markdown(text)\n",
    "    engine = pyttsx3.init()\n",
    "    engine.say(cleanedText)\n",
    "    engine.runAndWait()"
   ]
  },
  {
   "cell_type": "markdown",
   "id": "b6ff6832",
   "metadata": {},
   "source": [
    "Defining Main Function"
   ]
  },
  {
   "cell_type": "code",
   "execution_count": null,
   "id": "8f22ae78",
   "metadata": {},
   "outputs": [],
   "source": [
    "def main():\n",
    "    user_input = get_audio()\n",
    "    if user_input:\n",
    "        ai_answer = ask_gemini(user_input)\n",
    "        speak(ai_answer)"
   ]
  },
  {
   "cell_type": "code",
   "execution_count": null,
   "id": "3b293610",
   "metadata": {},
   "outputs": [],
   "source": [
    "main()"
   ]
  },
  {
   "cell_type": "markdown",
   "id": "116a77ff",
   "metadata": {},
   "source": [
    "If you run the above cell, i.e., main() a voice prompt will be expected i.e., your question and it'll automatically generate a response.  \n",
    "Simply, run the above cell to test the Voice Chatbot"
   ]
  },
  {
   "cell_type": "markdown",
   "id": "90f52692",
   "metadata": {},
   "source": [
    "##### Author:\n",
    "### **SURYA TEJA DARISI**"
   ]
  }
 ],
 "metadata": {
  "kernelspec": {
   "display_name": "venv",
   "language": "python",
   "name": "python3"
  },
  "language_info": {
   "codemirror_mode": {
    "name": "ipython",
    "version": 3
   },
   "file_extension": ".py",
   "mimetype": "text/x-python",
   "name": "python",
   "nbconvert_exporter": "python",
   "pygments_lexer": "ipython3",
   "version": "3.10.11"
  }
 },
 "nbformat": 4,
 "nbformat_minor": 5
}
